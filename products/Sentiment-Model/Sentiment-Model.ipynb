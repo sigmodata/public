{
  "nbformat": 4,
  "nbformat_minor": 0,
  "metadata": {
    "kernelspec": {
      "display_name": "Python 3",
      "language": "python",
      "name": "python3"
    },
    "language_info": {
      "codemirror_mode": {
        "name": "ipython",
        "version": 3
      },
      "file_extension": ".py",
      "mimetype": "text/x-python",
      "name": "python",
      "nbconvert_exporter": "python",
      "pygments_lexer": "ipython3",
      "version": "3.6.0"
    },
    "colab": {
      "name": "sagemaker_sigmodata_sentiment",
      "provenance": [],
      "collapsed_sections": []
    }
  },
  "cells": [
    {
      "cell_type": "code",
      "metadata": {
        "id": "2ZGRdePs_h8D"
      },
      "source": [
        "!pip install sagemaker\n",
        "## Note: you might need to restart the session"
      ],
      "execution_count": null,
      "outputs": []
    },
    {
      "cell_type": "markdown",
      "metadata": {
        "id": "FezgMwft_h8P"
      },
      "source": [
        "## Create sagemaker boto3 session\n",
        "Replace values with your credentials. The credentials need SageMaker access."
      ]
    },
    {
      "cell_type": "code",
      "metadata": {
        "id": "rgBJeAZC_h8R"
      },
      "source": [
        "import boto3\n",
        "\n",
        "boto_session = boto3.session.Session(\n",
        "                        aws_access_key_id = \"XXXXXXXXXXXXXXXXXXXXXX\",\n",
        "                        aws_secret_access_key = \"xxxxxxxxxxxxxxxxxxxxxxxxxxxxxxxxxxxxxx\",\n",
        "                        region_name = \"us-east-2\"\n",
        "                        )"
      ],
      "execution_count": null,
      "outputs": []
    },
    {
      "cell_type": "markdown",
      "metadata": {
        "id": "h2xsHOKOFUtE"
      },
      "source": [
        "## List IAM roles (Optional)"
      ]
    },
    {
      "cell_type": "code",
      "metadata": {
        "id": "-Kqu0HVWFDjH"
      },
      "source": [
        "roles = boto_session.client(\"iam\").list_roles()\n",
        "Role_list = roles['Roles']\n",
        "for key in Role_list:\n",
        "    print(key['RoleName'] + \" - \" + key['Arn'])"
      ],
      "execution_count": null,
      "outputs": []
    },
    {
      "cell_type": "markdown",
      "metadata": {
        "id": "7ZaB9tk_S7rn"
      },
      "source": [
        "## Find the ModelPackage ARN in the AWS Marketplace, and the execution role\n",
        "\n",
        "Find the ModelPackage ARN:\n",
        " \n",
        "\n",
        "*   Browse to https://aws.amazon.com/marketplace/pp/prodview-mc7fhbqx7ngy6\n",
        "*   Subscribe to the ModelPackage if needed\n",
        "*   Click on Configuration\n",
        "*   Select a region (ex us-east-1)\n",
        "*   Write down the product ARN (ex arn:aws:sagemaker:us-east-2:XXXXXXXXXX:model-package/sigmodata-sentiment-X-XXXXXXXXXXXXXXXXXXXXX)\n",
        "\n",
        "\n"
      ]
    },
    {
      "cell_type": "code",
      "metadata": {
        "id": "f2uHSQ3gFgfA"
      },
      "source": [
        "import sagemaker as sage\n",
        "from sagemaker import get_execution_role\n",
        "\n",
        "sagemaker_session = sage.Session(boto_session=boto_session)\n",
        "\n",
        "#@markdown Enter a role or role ARN with Sagemaker permissions\n",
        "role = \"my-sagemaker-iam-role\" #@param {type:\"string\"}\n",
        "print(sagemaker_session.expand_role(role))\n",
        "\n",
        "#@markdown Enter the product ARN ex arn:aws:sagemaker:us-east-2:XXXXXXXXXX:model-package/sigmodata-sentiment-X-XXXXXXXXXXXXXXXXXXXXX\n",
        "modelpackage_arn = \"arn:aws:sagemaker:us-east-2:XXXXXXXXXX:model-package/sigmodata-sentiment-X-XXXXXXXXXXXXXXXXXXXXX\" #@param {type:\"string\"}\n"
      ],
      "execution_count": null,
      "outputs": []
    },
    {
      "cell_type": "markdown",
      "metadata": {
        "id": "nLgp8qMzS66J"
      },
      "source": [
        "## Prepare a model package"
      ]
    },
    {
      "cell_type": "code",
      "metadata": {
        "id": "-OkduqWy_h8j"
      },
      "source": [
        "from sagemaker import ModelPackage\n",
        "from sagemaker.predictor import csv_serializer\n",
        "\n",
        "def predict_wrapper(endpoint, session):\n",
        "    return sage.RealTimePredictor(endpoint, session, serializer=csv_serializer)\n",
        "\n",
        "model = ModelPackage(role=role,\n",
        "                     model_package_arn=modelpackage_arn,\n",
        "                     sagemaker_session=sagemaker_session,\n",
        "                     predictor_cls=predict_wrapper)"
      ],
      "execution_count": null,
      "outputs": []
    },
    {
      "cell_type": "markdown",
      "metadata": {
        "id": "toCGq-Zm_h8p"
      },
      "source": [
        "## Prepare csv input data"
      ]
    },
    {
      "cell_type": "code",
      "metadata": {
        "id": "UKr6yQdE_h8s"
      },
      "source": [
        "import pandas as pd\n",
        "\n",
        "input_data = pd.read_csv(pd.compat.StringIO(\"\"\"\n",
        "I feel pretty bad about this right now\n",
        "The weather is great today\n",
        "This movie was terrible\n",
        "I enjoyed sleeping in yesterday\n",
        "\"Don't waste your time, this is not worth it\"\n",
        "This was brilliant\n",
        "\"What he did was neither clever nor intelligent\"\n",
        "\"I find it charming\"\n",
        "\"The pace was slow and repetitive but I enjoyed it\"\n",
        "\"I can't help but feel sorry for her\"\n",
        "\"\"\"), header=None, names=[\"input\"])\n",
        "\n",
        "input_data"
      ],
      "execution_count": null,
      "outputs": []
    },
    {
      "cell_type": "markdown",
      "metadata": {
        "id": "7r7xUWtQtPAy"
      },
      "source": [
        "## Upload the csv to Sagemaker S3\n",
        "\n",
        "You can also chose to upload it to your own S3 bucket"
      ]
    },
    {
      "cell_type": "code",
      "metadata": {
        "id": "YPP1dgBg_h8x"
      },
      "source": [
        "TRANSFORM_WORKDIR = \"/tmp\"\n",
        "input_data.to_csv(TRANSFORM_WORKDIR + \"/batchtransform_test.csv\", index=False, header=False)\n",
        "\n",
        "transform_input = sagemaker_session.upload_data(TRANSFORM_WORKDIR + \"/batchtransform_test.csv\")\n",
        "print(\"Transform input uploaded to \" + transform_input)"
      ],
      "execution_count": null,
      "outputs": []
    },
    {
      "cell_type": "code",
      "metadata": {
        "scrolled": true,
        "id": "9aJq2I8G_h86"
      },
      "source": [
        "transformer = model.transformer(1, 'ml.m4.xlarge')\n",
        "transformer.transform(transform_input, content_type='text/csv')\n",
        "transformer.wait()\n",
        "\n",
        "print(\"Batch Transform output saved to \" + transformer.output_path)"
      ],
      "execution_count": null,
      "outputs": []
    },
    {
      "cell_type": "markdown",
      "metadata": {
        "id": "WAHXZpi9_h9C"
      },
      "source": [
        "## Do batch transform\n",
        "\n",
        "Results are saved to s3 as CSV\n"
      ]
    },
    {
      "cell_type": "code",
      "metadata": {
        "id": "9szZIGka_h9E"
      },
      "source": [
        "from urllib.parse import urlparse\n",
        "\n",
        "parsed_url = urlparse(transformer.output_path)\n",
        "bucket_name = parsed_url.netloc\n",
        "file_key = '{}/{}.out'.format(parsed_url.path[1:], \"batchtransform_test.csv\")\n",
        "\n",
        "s3_client = sagemaker_session.boto_session.client('s3')\n",
        "\n",
        "response = s3_client.get_object(Bucket = sagemaker_session.default_bucket(), Key = file_key)\n",
        "response_bytes = response['Body'].read().decode('utf-8')\n",
        "print(response_bytes)"
      ],
      "execution_count": null,
      "outputs": []
    },
    {
      "cell_type": "markdown",
      "metadata": {
        "id": "Dd4cxOKu_h9J"
      },
      "source": [
        "## Deploy the model\n",
        "\n",
        "This creates an online endpoint for live predictions"
      ]
    },
    {
      "cell_type": "code",
      "metadata": {
        "id": "zKF6k2yO_h9K"
      },
      "source": [
        "predictor = model.deploy(1, 'ml.m4.xlarge')"
      ],
      "execution_count": null,
      "outputs": []
    },
    {
      "cell_type": "markdown",
      "metadata": {
        "id": "h_tRCs6j_h9Q"
      },
      "source": [
        "## Extract sentiment using csv input\n",
        "Send phrases to be analyzed for sentiment\n",
        "\n",
        "Sagemaker's default predictor input format is csv. \n",
        "\n",
        "We send the phrases separated by \\n\n",
        "\n",
        "The endpoint replies in csv format."
      ]
    },
    {
      "cell_type": "code",
      "metadata": {
        "id": "Egn_QuKZ_h9S"
      },
      "source": [
        "\n",
        "csv_results = predictor.predict(\"\\n\".join(input_data[\"input\"])).decode('utf-8')\n",
        "\n",
        "pd.read_csv(pd.compat.StringIO(csv_results), header=None, names=[\"input\", \"sentiment\", \"confidence\"])\n"
      ],
      "execution_count": null,
      "outputs": []
    },
    {
      "cell_type": "markdown",
      "metadata": {
        "id": "t6fHcdAf_h9X"
      },
      "source": [
        "## Use JSON as content-type for input\n",
        "Create another predictor for the same endpoint, but specify json as the content type.\n",
        "The endpoint will return data in json format"
      ]
    },
    {
      "cell_type": "code",
      "metadata": {
        "id": "XUQW0922_h9Y"
      },
      "source": [
        "json_predictor = sage.predictor.RealTimePredictor(model.endpoint_name, sagemaker_session, content_type=\"application/json\")\n",
        "\n",
        "import json\n",
        "result = json_predictor.predict(json.dumps({\n",
        "    \"input\": list(input_data[\"input\"])\n",
        "})\n",
        ").decode('utf-8')\n",
        "\n",
        "json.loads(result)\n"
      ],
      "execution_count": null,
      "outputs": []
    },
    {
      "cell_type": "markdown",
      "metadata": {
        "id": "jm9m-KbV_h9c"
      },
      "source": [
        "## Cleanup: delete endpoint"
      ]
    },
    {
      "cell_type": "code",
      "metadata": {
        "id": "dd0BZdV1_h9e"
      },
      "source": [
        "predictor.delete_endpoint()"
      ],
      "execution_count": null,
      "outputs": []
    }
  ]
}